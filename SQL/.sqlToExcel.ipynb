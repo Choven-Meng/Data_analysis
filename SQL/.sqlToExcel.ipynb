{
 "cells": [
  {
   "cell_type": "code",
   "execution_count": 17,
   "metadata": {},
   "outputs": [],
   "source": [
    "import pandas as pd\n",
    "import re\n",
    "import xlwings as xw"
   ]
  },
  {
   "cell_type": "code",
   "execution_count": 31,
   "metadata": {},
   "outputs": [],
   "source": [
    "reportName = 'C:\\\\Users\\\\admin\\\\Desktop\\\\钱包数仓字典.xlsx'"
   ]
  },
  {
   "cell_type": "code",
   "execution_count": 32,
   "metadata": {},
   "outputs": [],
   "source": [
    "wb1 = xw.Book(reportName)\n",
    "detail_sheet1 = xw.Sheet(\"wallet\")"
   ]
  },
  {
   "cell_type": "code",
   "execution_count": 34,
   "metadata": {},
   "outputs": [],
   "source": [
    "fileName = 'C:\\\\Users\\\\admin\\\\Desktop\\\\wallet.sql'\n",
    "f = open(fileName,'r+',encoding='utf-8')\n",
    "#f.read().split('\\n\\n')[1]\n",
    "\n",
    "k = 3\n",
    "for a in f.read().strip().split('\\n\\n\\n'):\n",
    "    b = a.split('\\n')\n",
    "    #print(b[0].split()[-2])\n",
    "    detail_sheet1.range('B'+str(k)).options(transpose=True).value = b[0].split()[-2]\n",
    "    c = b[1:]\n",
    "    for i in range(len(c)):\n",
    "        if c[i].find('PRIMARY') >=0: # 包含\n",
    "            j = i\n",
    "     \n",
    "    for string in b[1:j+1]:\n",
    "        sea = re.match('(.*?)\\s(.*?)(NOT.*?)COMMENT(.*?)\\,',string.strip())\n",
    "        #print(sea.groups())\n",
    "        detail_sheet1.range('C'+str(k)).options(transpose=True).value = sea.groups()[0] # 英文名 \n",
    "        detail_sheet1.range('D'+str(k)).options(transpose=True).value = sea.groups()[3] # 中文名\n",
    "        detail_sheet1.range('E'+str(k)).options(transpose=True).value = sea.groups()[1] # 类型\n",
    "        detail_sheet1.range('F'+str(k)).options(transpose=True).value = sea.groups()[2] # 默认值\n",
    "        k += 1"
   ]
  },
  {
   "cell_type": "code",
   "execution_count": 35,
   "metadata": {},
   "outputs": [],
   "source": [
    "wb2 = xw.Book(reportName)\n",
    "detail_sheet2 = xw.Sheet(\"loan_basic\")\n",
    "\n",
    "\n",
    "fileName = 'C:\\\\Users\\\\admin\\\\Desktop\\\\loan_basic.sql'\n",
    "f = open(fileName,'r+',encoding='utf-8')\n",
    "#f.read().split('\\n\\n')[1]\n",
    "\n",
    "k = 3\n",
    "for a in f.read().strip().split('\\n\\n\\n'):\n",
    "    b = a.split('\\n')\n",
    "    #print(b[0].split()[-2])\n",
    "    detail_sheet2.range('B'+str(k)).options(transpose=True).value = b[0].split()[-2]\n",
    "    c = b[1:]\n",
    "    for i in range(len(c)):\n",
    "        if c[i].find('PRIMARY') >=0:\n",
    "            j = i\n",
    "     \n",
    "    for string in b[1:j+1]:\n",
    "        if string.find('NOT') >= 0: # 包含\n",
    "            sea = re.match('(.*?)\\s(.*?)(NOT.*?)COMMENT(.*?)\\,',string.strip())\n",
    "            #print(sea.groups())\n",
    "            detail_sheet2.range('C'+str(k)).options(transpose=True).value = sea.groups()[0] # 英文名 \n",
    "            detail_sheet2.range('D'+str(k)).options(transpose=True).value = sea.groups()[3] # 中文名\n",
    "            detail_sheet2.range('E'+str(k)).options(transpose=True).value = sea.groups()[1] # 类型\n",
    "            detail_sheet2.range('F'+str(k)).options(transpose=True).value = sea.groups()[2] # 默认值\n",
    "        else: # 不包含\n",
    "            sea = re.match('(.*?)\\s(.*?)COMMENT(.*?)\\,',string.strip())\n",
    "            #print(sea.groups())\n",
    "            detail_sheet2.range('C'+str(k)).options(transpose=True).value = sea.groups()[0] # 英文名 \n",
    "            detail_sheet2.range('D'+str(k)).options(transpose=True).value = sea.groups()[2] # 中文名\n",
    "            detail_sheet2.range('E'+str(k)).options(transpose=True).value = sea.groups()[1] # 类型\n",
    "        k += 1"
   ]
  },
  {
   "cell_type": "code",
   "execution_count": 46,
   "metadata": {},
   "outputs": [],
   "source": [
    "fileName = 'C:\\\\Users\\\\admin\\\\Desktop\\\\revolan.sql'\n",
    "f = open(fileName,'r+',encoding='utf-8')\n",
    "#f.read().split('\\n\\n')[1]\n",
    "\n",
    "k = 3\n",
    "for a in f.read().strip().split('\\n\\n\\n'):\n",
    "    b = a.split('\\n')\n",
    "    #print(b[0].split()[-2])\n",
    "    c = b[1:]\n",
    "    for i in range(len(c)):\n",
    "        if c[i].find('PRIMARY') >=0:\n",
    "            j = i\n",
    "\n",
    "    for string in b[1:j+1]:\n",
    "        if string.find('COMMENT') >= 0 and string.find('NOT') >= 0: # 包含\n",
    "            sea = re.match('(.*?)\\s(.*?)(NOT.*?)COMMENT(.*?)\\,',string.strip())\n",
    "            detail_sheet3.range('C'+str(k)).options(transpose=True).value = sea.groups()[0] # 英文名 \n",
    "            detail_sheet3.range('D'+str(k)).options(transpose=True).value = sea.groups()[3] # 中文名\n",
    "            detail_sheet3.range('E'+str(k)).options(transpose=True).value = sea.groups()[1] # 类型\n",
    "            detail_sheet3.range('F'+str(k)).options(transpose=True).value = sea.groups()[2] # 默认值\n",
    "        elif string.find('COMMENT') >= 0 and string.find('NOT') == -1:\n",
    "            if string.find('DEFAULT') >= 0:\n",
    "                sea = re.match('(.*?)\\s(.*?)(DEFAULT.*?)COMMENT(.*?)\\,',string.strip())\n",
    "                detail_sheet3.range('C'+str(k)).options(transpose=True).value = sea.groups()[0] # 英文名 \n",
    "                detail_sheet3.range('D'+str(k)).options(transpose=True).value = sea.groups()[3] # 中文名\n",
    "                detail_sheet3.range('E'+str(k)).options(transpose=True).value = sea.groups()[1] # 类型\n",
    "                detail_sheet3.range('F'+str(k)).options(transpose=True).value = sea.groups()[2] # 默认值\n",
    "            elif string.find('DEFAULT') == -1:\n",
    "                sea = re.match('(.*?)\\s(.*?)COMMENT(.*?)\\,',string.strip())\n",
    "                detail_sheet3.range('C'+str(k)).options(transpose=True).value = sea.groups()[0] # 英文名 \n",
    "                detail_sheet3.range('D'+str(k)).options(transpose=True).value = sea.groups()[2] # 中文名\n",
    "                detail_sheet3.range('E'+str(k)).options(transpose=True).value = sea.groups()[1] # 类型\n",
    "                #detail_sheet3.range('F'+str(k)).options(transpose=True).value = sea.groups()[2] # 默认值\n",
    "    \n",
    "\n",
    "        elif string.find('COMMENT') == -1 and string.find('NOT') >= 0: # 包含\n",
    "            sea = re.match('(.*?)\\s(.*?)(NOT.*?)\\,',string.strip())\n",
    "            detail_sheet3.range('C'+str(k)).options(transpose=True).value = sea.groups()[0] # 英文名 \n",
    "            #detail_sheet3.range('D'+str(k)).options(transpose=True).value = sea.groups()[3] # 中文名\n",
    "            detail_sheet3.range('E'+str(k)).options(transpose=True).value = sea.groups()[1] # 类型\n",
    "            detail_sheet3.range('F'+str(k)).options(transpose=True).value = sea.groups()[2] # 默认值\n",
    "        elif string.find('COMMENT') == -1 and string.find('NOT') == -1:\n",
    "            if string.find('DEFAULT') >= 0:\n",
    "                sea = re.match('(.*?)\\s(.*?)(DEFAULT.*?)\\,',string.strip())\n",
    "                detail_sheet3.range('C'+str(k)).options(transpose=True).value = sea.groups()[0] # 英文名 \n",
    "                #detail_sheet3.range('D'+str(k)).options(transpose=True).value = sea.groups()[3] # 中文名\n",
    "                detail_sheet3.range('E'+str(k)).options(transpose=True).value = sea.groups()[1] # 类型\n",
    "                detail_sheet3.range('F'+str(k)).options(transpose=True).value = sea.groups()[2] # 默认值\n",
    "            elif string.find('DEFAULT') == -1:\n",
    "                sea = re.match('(.*?)\\s(.*?)\\,',string.strip())\n",
    "                detail_sheet3.range('C'+str(k)).options(transpose=True).value = sea.groups()[0] # 英文名 \n",
    "                #detail_sheet3.range('D'+str(k)).options(transpose=True).value = sea.groups()[3] # 中文名\n",
    "                detail_sheet3.range('E'+str(k)).options(transpose=True).value = sea.groups()[1] # 类型\n",
    "                #detail_sheet3.range('F'+str(k)).options(transpose=True).value = sea.groups()[2] # 默认值\n",
    "        "
   ]
  },
  {
   "cell_type": "code",
   "execution_count": null,
   "metadata": {},
   "outputs": [],
   "source": []
  }
 ],
 "metadata": {
  "kernelspec": {
   "display_name": "Python 3",
   "language": "python",
   "name": "python3"
  },
  "language_info": {
   "codemirror_mode": {
    "name": "ipython",
    "version": 3
   },
   "file_extension": ".py",
   "mimetype": "text/x-python",
   "name": "python",
   "nbconvert_exporter": "python",
   "pygments_lexer": "ipython3",
   "version": "3.6.5"
  }
 },
 "nbformat": 4,
 "nbformat_minor": 2
}
