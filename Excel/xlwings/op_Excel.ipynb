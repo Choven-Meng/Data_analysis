{
 "cells": [
  {
   "cell_type": "markdown",
   "metadata": {},
   "source": [
    "# xlwings\n"
   ]
  },
  {
   "cell_type": "markdown",
   "metadata": {},
   "source": [
    "### 读一个已经存在的excel"
   ]
  },
  {
   "cell_type": "code",
   "execution_count": 4,
   "metadata": {},
   "outputs": [],
   "source": [
    "userfile = '/Users/ms/Desktop/users.xlsx' \n",
    "phonefile = '/Users/ms/Desktop/phone.xlsx'"
   ]
  },
  {
   "cell_type": "code",
   "execution_count": 52,
   "metadata": {},
   "outputs": [
    {
     "name": "stdout",
     "output_type": "stream",
     "text": [
      "[['用户类型', '用户uid', None], ['写入测试', '写入测试', None], ['A', '98493497877217282', None], ['D', '99254933306228741', None], ['A', '103558218900586497', None]]\n",
      "[['用户类型', '用户uid', None], ['写入测试', '写入测试', None], ['A', '98493497877217282', None], ['D', '99254933306228741', None], ['A', '103558218900586497', None]]\n"
     ]
    }
   ],
   "source": [
    "import xlwings as xw\n",
    "app = xw.App(visible=True,add_book=False)\n",
    "app.display_alerts=False\n",
    "app.screen_updating=False\n",
    "#打开文档\n",
    "wb = app.books.open(userfile)\n",
    "\n",
    "#sheet1表格中A1:B6的值，返回一个n维列表\n",
    "print(wb.sheets['sheet1'].range('A1:C5').value) \n",
    "\n",
    "#写入\n",
    "wb.sheets['sheet1'].range('A2:B2').value='写入测试' \n",
    "print(wb.sheets['sheet1'].range('A1:C5').value) \n",
    "\n",
    "#保存关闭\n",
    "wb.save()  \n",
    "wb.close()  \n",
    "app.quit() "
   ]
  },
  {
   "cell_type": "code",
   "execution_count": null,
   "metadata": {
    "scrolled": false
   },
   "outputs": [],
   "source": []
  },
  {
   "cell_type": "markdown",
   "metadata": {},
   "source": [
    "### 新建"
   ]
  },
  {
   "cell_type": "code",
   "execution_count": 39,
   "metadata": {
    "scrolled": false
   },
   "outputs": [
    {
     "ename": "CommandError",
     "evalue": "Command failed:\n\t\tOSERROR: -1728\n\t\tMESSAGE: The object you are trying to access does not exist\n\t\tCOMMAND: app('/Applications/Microsoft Excel.app', newinstance=(0, 966892)).workbooks['工作簿1'].close(saving=k.no)",
     "output_type": "error",
     "traceback": [
      "\u001b[0;31m---------------------------------------------------------------------------\u001b[0m",
      "\u001b[0;31mEventError\u001b[0m                                Traceback (most recent call last)",
      "\u001b[0;32m~/anaconda3/lib/python3.6/site-packages/aeosa/appscript/reference.py\u001b[0m in \u001b[0;36m__call__\u001b[0;34m(self, *args, **kargs)\u001b[0m\n\u001b[1;32m    459\u001b[0m                 \u001b[0;32mtry\u001b[0m\u001b[0;34m:\u001b[0m\u001b[0;34m\u001b[0m\u001b[0m\n\u001b[0;32m--> 460\u001b[0;31m                         \u001b[0;32mreturn\u001b[0m \u001b[0mself\u001b[0m\u001b[0;34m.\u001b[0m\u001b[0mAS_appdata\u001b[0m\u001b[0;34m.\u001b[0m\u001b[0mtarget\u001b[0m\u001b[0;34m(\u001b[0m\u001b[0;34m)\u001b[0m\u001b[0;34m.\u001b[0m\u001b[0mevent\u001b[0m\u001b[0;34m(\u001b[0m\u001b[0mself\u001b[0m\u001b[0;34m.\u001b[0m\u001b[0m_code\u001b[0m\u001b[0;34m,\u001b[0m \u001b[0mparams\u001b[0m\u001b[0;34m,\u001b[0m \u001b[0matts\u001b[0m\u001b[0;34m,\u001b[0m \u001b[0mcodecs\u001b[0m\u001b[0;34m=\u001b[0m\u001b[0mself\u001b[0m\u001b[0;34m.\u001b[0m\u001b[0mAS_appdata\u001b[0m\u001b[0;34m)\u001b[0m\u001b[0;34m.\u001b[0m\u001b[0msend\u001b[0m\u001b[0;34m(\u001b[0m\u001b[0mtimeout\u001b[0m\u001b[0;34m,\u001b[0m \u001b[0msendflags\u001b[0m\u001b[0;34m)\u001b[0m\u001b[0;34m\u001b[0m\u001b[0m\n\u001b[0m\u001b[1;32m    461\u001b[0m                 \u001b[0;32mexcept\u001b[0m \u001b[0maem\u001b[0m\u001b[0;34m.\u001b[0m\u001b[0mEventError\u001b[0m \u001b[0;32mas\u001b[0m \u001b[0me\u001b[0m\u001b[0;34m:\u001b[0m\u001b[0;34m\u001b[0m\u001b[0m\n",
      "\u001b[0;32m~/anaconda3/lib/python3.6/site-packages/aeosa/aem/aemsend.py\u001b[0m in \u001b[0;36msend\u001b[0;34m(self, timeout, flags)\u001b[0m\n\u001b[1;32m     91\u001b[0m                                                         \u001b[0merrormsg\u001b[0m \u001b[0;34m=\u001b[0m \u001b[0m_defaultcodecs\u001b[0m\u001b[0;34m.\u001b[0m\u001b[0munpack\u001b[0m\u001b[0;34m(\u001b[0m\u001b[0merrormsg\u001b[0m\u001b[0;34m)\u001b[0m\u001b[0;34m\u001b[0m\u001b[0m\n\u001b[0;32m---> 92\u001b[0;31m                                                 \u001b[0;32mraise\u001b[0m \u001b[0mEventError\u001b[0m\u001b[0;34m(\u001b[0m\u001b[0merrornum\u001b[0m\u001b[0;34m,\u001b[0m \u001b[0merrormsg\u001b[0m\u001b[0;34m,\u001b[0m \u001b[0meventresult\u001b[0m\u001b[0;34m)\u001b[0m\u001b[0;34m\u001b[0m\u001b[0m\n\u001b[0m\u001b[1;32m     93\u001b[0m                                 \u001b[0;32mif\u001b[0m \u001b[0mkae\u001b[0m\u001b[0;34m.\u001b[0m\u001b[0mkeyAEResult\u001b[0m \u001b[0;32min\u001b[0m \u001b[0meventresult\u001b[0m\u001b[0;34m:\u001b[0m \u001b[0;31m# application has returned a value\u001b[0m\u001b[0;34m\u001b[0m\u001b[0m\n",
      "\u001b[0;31mEventError\u001b[0m: Command failed: The object you are trying to access does not exist (-1728)",
      "\nThe above exception was the direct cause of the following exception:\n",
      "\u001b[0;31mCommandError\u001b[0m                              Traceback (most recent call last)",
      "\u001b[0;32m<ipython-input-39-32a848d30e4d>\u001b[0m in \u001b[0;36m<module>\u001b[0;34m()\u001b[0m\n\u001b[1;32m      5\u001b[0m \u001b[0mwb\u001b[0m\u001b[0;34m.\u001b[0m\u001b[0msheets\u001b[0m\u001b[0;34m[\u001b[0m\u001b[0;34m'sheet1'\u001b[0m\u001b[0;34m]\u001b[0m\u001b[0;34m.\u001b[0m\u001b[0mrange\u001b[0m\u001b[0;34m(\u001b[0m\u001b[0;34m'A1'\u001b[0m\u001b[0;34m)\u001b[0m\u001b[0;34m.\u001b[0m\u001b[0mvalue\u001b[0m\u001b[0;34m=\u001b[0m\u001b[0;34m'Hello'\u001b[0m\u001b[0;34m\u001b[0m\u001b[0m\n\u001b[1;32m      6\u001b[0m \u001b[0mwb\u001b[0m\u001b[0;34m.\u001b[0m\u001b[0msave\u001b[0m\u001b[0;34m(\u001b[0m\u001b[0;34m'/Users/ms/Desktop/d.xlsx'\u001b[0m\u001b[0;34m)\u001b[0m\u001b[0;34m\u001b[0m\u001b[0m\n\u001b[0;32m----> 7\u001b[0;31m \u001b[0mwb\u001b[0m\u001b[0;34m.\u001b[0m\u001b[0mclose\u001b[0m\u001b[0;34m(\u001b[0m\u001b[0;34m)\u001b[0m\u001b[0;34m\u001b[0m\u001b[0m\n\u001b[0m\u001b[1;32m      8\u001b[0m \u001b[0mapp\u001b[0m\u001b[0;34m.\u001b[0m\u001b[0mquit\u001b[0m\u001b[0;34m(\u001b[0m\u001b[0;34m)\u001b[0m\u001b[0;34m\u001b[0m\u001b[0m\n",
      "\u001b[0;32m~/anaconda3/lib/python3.6/site-packages/xlwings/main.py\u001b[0m in \u001b[0;36mclose\u001b[0;34m(self)\u001b[0m\n\u001b[1;32m    664\u001b[0m         \u001b[0;34m.\u001b[0m\u001b[0;34m.\u001b[0m \u001b[0mversionadded\u001b[0m\u001b[0;34m:\u001b[0m\u001b[0;34m:\u001b[0m \u001b[0;36m0.1\u001b[0m\u001b[0;36m.1\u001b[0m\u001b[0;34m\u001b[0m\u001b[0m\n\u001b[1;32m    665\u001b[0m         \"\"\"\n\u001b[0;32m--> 666\u001b[0;31m         \u001b[0mself\u001b[0m\u001b[0;34m.\u001b[0m\u001b[0mimpl\u001b[0m\u001b[0;34m.\u001b[0m\u001b[0mclose\u001b[0m\u001b[0;34m(\u001b[0m\u001b[0;34m)\u001b[0m\u001b[0;34m\u001b[0m\u001b[0m\n\u001b[0m\u001b[1;32m    667\u001b[0m \u001b[0;34m\u001b[0m\u001b[0m\n\u001b[1;32m    668\u001b[0m     \u001b[0;32mdef\u001b[0m \u001b[0msave\u001b[0m\u001b[0;34m(\u001b[0m\u001b[0mself\u001b[0m\u001b[0;34m,\u001b[0m \u001b[0mpath\u001b[0m\u001b[0;34m=\u001b[0m\u001b[0;32mNone\u001b[0m\u001b[0;34m)\u001b[0m\u001b[0;34m:\u001b[0m\u001b[0;34m\u001b[0m\u001b[0m\n",
      "\u001b[0;32m~/anaconda3/lib/python3.6/site-packages/xlwings/_xlmac.py\u001b[0m in \u001b[0;36mclose\u001b[0;34m(self)\u001b[0m\n\u001b[1;32m    214\u001b[0m \u001b[0;34m\u001b[0m\u001b[0m\n\u001b[1;32m    215\u001b[0m     \u001b[0;32mdef\u001b[0m \u001b[0mclose\u001b[0m\u001b[0;34m(\u001b[0m\u001b[0mself\u001b[0m\u001b[0;34m)\u001b[0m\u001b[0;34m:\u001b[0m\u001b[0;34m\u001b[0m\u001b[0m\n\u001b[0;32m--> 216\u001b[0;31m         \u001b[0mself\u001b[0m\u001b[0;34m.\u001b[0m\u001b[0mxl\u001b[0m\u001b[0;34m.\u001b[0m\u001b[0mclose\u001b[0m\u001b[0;34m(\u001b[0m\u001b[0msaving\u001b[0m\u001b[0;34m=\u001b[0m\u001b[0mkw\u001b[0m\u001b[0;34m.\u001b[0m\u001b[0mno\u001b[0m\u001b[0;34m)\u001b[0m\u001b[0;34m\u001b[0m\u001b[0m\n\u001b[0m\u001b[1;32m    217\u001b[0m \u001b[0;34m\u001b[0m\u001b[0m\n\u001b[1;32m    218\u001b[0m     \u001b[0;32mdef\u001b[0m \u001b[0msave\u001b[0m\u001b[0;34m(\u001b[0m\u001b[0mself\u001b[0m\u001b[0;34m,\u001b[0m \u001b[0mpath\u001b[0m\u001b[0;34m)\u001b[0m\u001b[0;34m:\u001b[0m\u001b[0;34m\u001b[0m\u001b[0m\n",
      "\u001b[0;32m~/anaconda3/lib/python3.6/site-packages/aeosa/appscript/reference.py\u001b[0m in \u001b[0;36m__call__\u001b[0;34m(self, *args, **kargs)\u001b[0m\n\u001b[1;32m    494\u001b[0m                                                 \u001b[0;32mreturn\u001b[0m\u001b[0;34m\u001b[0m\u001b[0m\n\u001b[1;32m    495\u001b[0m                                         \u001b[0;32mraise\u001b[0m \u001b[0mCommandError\u001b[0m\u001b[0;34m(\u001b[0m\u001b[0mself\u001b[0m\u001b[0;34m,\u001b[0m \u001b[0;34m(\u001b[0m\u001b[0margs\u001b[0m\u001b[0;34m,\u001b[0m \u001b[0mkargs\u001b[0m\u001b[0;34m)\u001b[0m\u001b[0;34m,\u001b[0m \u001b[0me\u001b[0m\u001b[0;34m,\u001b[0m \u001b[0mself\u001b[0m\u001b[0;34m.\u001b[0m\u001b[0mAS_appdata\u001b[0m\u001b[0;34m)\u001b[0m \u001b[0;32mfrom\u001b[0m \u001b[0me\u001b[0m\u001b[0;34m\u001b[0m\u001b[0m\n\u001b[0;32m--> 496\u001b[0;31m                         \u001b[0;32mraise\u001b[0m \u001b[0mCommandError\u001b[0m\u001b[0;34m(\u001b[0m\u001b[0mself\u001b[0m\u001b[0;34m,\u001b[0m \u001b[0;34m(\u001b[0m\u001b[0margs\u001b[0m\u001b[0;34m,\u001b[0m \u001b[0mkargs\u001b[0m\u001b[0;34m)\u001b[0m\u001b[0;34m,\u001b[0m \u001b[0me\u001b[0m\u001b[0;34m,\u001b[0m \u001b[0mself\u001b[0m\u001b[0;34m.\u001b[0m\u001b[0mAS_appdata\u001b[0m\u001b[0;34m)\u001b[0m \u001b[0;32mfrom\u001b[0m \u001b[0me\u001b[0m\u001b[0;34m\u001b[0m\u001b[0m\n\u001b[0m\u001b[1;32m    497\u001b[0m \u001b[0;34m\u001b[0m\u001b[0m\n\u001b[1;32m    498\u001b[0m         \u001b[0;32mdef\u001b[0m \u001b[0mAS_formatcommand\u001b[0m\u001b[0;34m(\u001b[0m\u001b[0mself\u001b[0m\u001b[0;34m,\u001b[0m \u001b[0margs\u001b[0m\u001b[0;34m)\u001b[0m\u001b[0;34m:\u001b[0m\u001b[0;34m\u001b[0m\u001b[0m\n",
      "\u001b[0;31mCommandError\u001b[0m: Command failed:\n\t\tOSERROR: -1728\n\t\tMESSAGE: The object you are trying to access does not exist\n\t\tCOMMAND: app('/Applications/Microsoft Excel.app', newinstance=(0, 966892)).workbooks['工作簿1'].close(saving=k.no)"
     ]
    }
   ],
   "source": [
    "import xlwings as xw  \n",
    "app=xw.App(visible=True,add_book=False)  \n",
    "wb=app.books.add()  \n",
    "# wb就是新建的工作簿(workbook)，下面则对wb的sheet1的A1单元格赋值  \n",
    "wb.sheets['sheet1'].range('A1').value='Hello' \n",
    "wb.save('/Users/ms/Desktop/d.xlsx')  \n",
    "wb.close()\n",
    "app.quit()"
   ]
  },
  {
   "cell_type": "markdown",
   "metadata": {},
   "source": [
    "### 读写数据"
   ]
  },
  {
   "cell_type": "code",
   "execution_count": 47,
   "metadata": {
    "scrolled": false
   },
   "outputs": [
    {
     "name": "stdout",
     "output_type": "stream",
     "text": [
      "1.0 \n",
      " [1.0, 3.0, None] \n",
      " [[1.0, 2.0], [3.0, 4.0]]\n"
     ]
    }
   ],
   "source": [
    "app = xw.App(visible=True,add_book=False)\n",
    "\n",
    "#打开文档\n",
    "wb = app.books.open('/Users/ms/Desktop/d.xlsx')\n",
    "sht = wb.sheets(0)\n",
    "\n",
    "# 将列表[1,2,3]储存在A1：C1中  \n",
    "sht.range('A1:C1').value = [1,2,3]\n",
    "\n",
    "# 将列表[1,2,3]储存在A1:A3中  \n",
    "sht.range('A1').options(transpose=True).value=[1,2,3]  \n",
    "  \n",
    "# 将2x2表格，即二维数组，储存在A1:B2中，如第一行1，2，第二行3，4  \n",
    "sht.range('A1').options(expand='table').value=[[1,2],[3,4]]      \n",
    "\n",
    "# 将A1的值，读取到a变量中  \n",
    "a=sht.range('A1').value  \n",
    "\n",
    "#将A1到A3的值，读取到a列表中  \n",
    "b=sht.range('A1:A3').value  \n",
    "\n",
    "# 将第一行和第二行的数据按二维数组的方式读取  \n",
    "c=sht.range('A1:B2').value \n",
    "\n",
    "print(a,'\\n',b,'\\n',c)"
   ]
  },
  {
   "cell_type": "code",
   "execution_count": 60,
   "metadata": {},
   "outputs": [
    {
     "name": "stdout",
     "output_type": "stream",
     "text": [
      "/Users/ms/Desktop/d.xlsx\n",
      "d.xlsx\n",
      "工作表1\n"
     ]
    }
   ],
   "source": [
    "app = xw.App(visible=True,add_book=False)\n",
    "app.display_alerts=False\n",
    "app.screen_updating=False\n",
    "\n",
    "#打开文档\n",
    "wb = app.books.open('/Users/ms/Desktop/d.xlsx')\n",
    "sht = wb.sheets(0)\n",
    "rng = sht.range('A1:B2')\n",
    "\n",
    "#工作簿的绝对路径\n",
    "print(wb.fullname)\n",
    "\n",
    "#返回工作簿的名称\n",
    "print(wb.name)\n",
    "\n",
    "# 获得sheet的名字\n",
    "print(sht.name)\n",
    "\n",
    "# 清除sheet的内容和格式  \n",
    "#sht.clear()  \n",
    "\n",
    "# 清除sheet的内容  \n",
    "#sht.contents() \n"
   ]
  },
  {
   "cell_type": "markdown",
   "metadata": {},
   "source": [
    "## 数据结构"
   ]
  },
  {
   "cell_type": "markdown",
   "metadata": {},
   "source": [
    "### 1.一维数据\n",
    "\n",
    "python的列表，可以和Excel中的行列进行数据交换，python中的一维列表，在Excel中默认为一行数据"
   ]
  },
  {
   "cell_type": "code",
   "execution_count": null,
   "metadata": {},
   "outputs": [],
   "source": [
    "import xlwings as xw\n",
    "\n",
    "sht=xw.sheets.active\n",
    "\n",
    "# 将1，2，3分别写入了A1，B1，C1单元格中\n",
    "sht.range('A1').value=[1,2,3]\n",
    "\n",
    "# 将A1，B1，C1单元格的值存入list1列表中\n",
    "list1=sht.range('A1:C1').value\n",
    "\n",
    "# 将1，2，3分别写入了A1，A2，A3单元格中\n",
    "sht.range('A1').options(transpose=True).value=[1,2,3]\n",
    "\n",
    "# 将A1，A2，A3单元格中值存入list1列表中\n",
    "list1=sht.range('A1:A3').value\n"
   ]
  },
  {
   "cell_type": "markdown",
   "metadata": {},
   "source": [
    "### 2. 二维数据\n",
    "python的二维列表，可以转换为Excel中的行列。二维列表，即列表中的元素还是列表。\n",
    "在Excel中，二维列表中的列表元素，代表Excel表格中的一列."
   ]
  },
  {
   "cell_type": "code",
   "execution_count": null,
   "metadata": {},
   "outputs": [],
   "source": [
    "# 将a1,a2,a3输入第一列，b1,b2,b3输入第二列\n",
    "list1=[[‘a1’,'a2','a3'],['b1','b2','b3']]\n",
    "sht.range('A1').value=list1"
   ]
  },
  {
   "cell_type": "code",
   "execution_count": null,
   "metadata": {},
   "outputs": [],
   "source": [
    "# 将A1：B3的值赋给二维列表list1\n",
    "list1=sht.range('A1:B3‘).value"
   ]
  },
  {
   "cell_type": "markdown",
   "metadata": {},
   "source": [
    "### 3. Excel中区域的选取表格\n"
   ]
  },
  {
   "cell_type": "code",
   "execution_count": null,
   "metadata": {},
   "outputs": [],
   "source": [
    "# 选取第一列\n",
    "rng=sht. range('A1').expand('down')\n",
    "rng.value=['a1','a2','a3']"
   ]
  },
  {
   "cell_type": "code",
   "execution_count": null,
   "metadata": {},
   "outputs": [],
   "source": [
    "# 选取第一行\n",
    "rng=sht.range('A1').expand('right')\n",
    "rng=['a1','b1']"
   ]
  },
  {
   "cell_type": "code",
   "execution_count": null,
   "metadata": {},
   "outputs": [],
   "source": [
    "# 选取表格\n",
    "rng.sht.range('A1').expand('table')\n",
    "rng.value=[[‘a1’,'a2','a3'],['b1','b2','b3']]"
   ]
  },
  {
   "cell_type": "code",
   "execution_count": null,
   "metadata": {},
   "outputs": [],
   "source": []
  }
 ],
 "metadata": {
  "kernelspec": {
   "display_name": "Python 3",
   "language": "python",
   "name": "python3"
  },
  "language_info": {
   "codemirror_mode": {
    "name": "ipython",
    "version": 3
   },
   "file_extension": ".py",
   "mimetype": "text/x-python",
   "name": "python",
   "nbconvert_exporter": "python",
   "pygments_lexer": "ipython3",
   "version": "3.6.4"
  }
 },
 "nbformat": 4,
 "nbformat_minor": 2
}
