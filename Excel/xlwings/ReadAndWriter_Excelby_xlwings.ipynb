{
 "cells": [
  {
   "cell_type": "code",
   "execution_count": 3,
   "metadata": {},
   "outputs": [],
   "source": [
    "import xlwings as xw"
   ]
  },
  {
   "cell_type": "code",
   "execution_count": 4,
   "metadata": {},
   "outputs": [
    {
     "name": "stdout",
     "output_type": "stream",
     "text": [
      "<Sheet [test2.xlsx]Sheet1>\n"
     ]
    }
   ],
   "source": [
    "filename=\"C:\\\\Users\\\\choven\\\\Desktop\\\\test2.xlsx\"  #读取文件  \n",
    "  \n",
    "wb=xw.Book(filename) #打开文件  \n",
    "detail_sheet=xw.Sheet(\"Sheet1\") #sheet名字  \n",
    "  \n",
    "print(detail_sheet)  "
   ]
  },
  {
   "cell_type": "code",
   "execution_count": 22,
   "metadata": {},
   "outputs": [
    {
     "ename": "AttributeError",
     "evalue": "'Range' object has no attribute 'last_row_index'",
     "output_type": "error",
     "traceback": [
      "\u001b[1;31m---------------------------------------------------------------------------\u001b[0m",
      "\u001b[1;31mAttributeError\u001b[0m                            Traceback (most recent call last)",
      "\u001b[1;32m<ipython-input-22-0dda96ba69e0>\u001b[0m in \u001b[0;36m<module>\u001b[1;34m()\u001b[0m\n\u001b[1;32m----> 1\u001b[1;33m \u001b[0mlast_row_index\u001b[0m\u001b[1;33m=\u001b[0m\u001b[0mxw\u001b[0m\u001b[1;33m.\u001b[0m\u001b[0mRange\u001b[0m\u001b[1;33m(\u001b[0m\u001b[1;34m'A1'\u001b[0m\u001b[1;33m)\u001b[0m\u001b[1;33m.\u001b[0m\u001b[0mexpand\u001b[0m\u001b[1;33m(\u001b[0m\u001b[1;34m'table'\u001b[0m\u001b[1;33m)\u001b[0m\u001b[1;33m.\u001b[0m\u001b[0mlast_row_index\u001b[0m\u001b[1;33m(\u001b[0m\u001b[1;33m)\u001b[0m\u001b[1;31m#.last_cell.row #这表格最后一列\u001b[0m\u001b[1;33m\u001b[0m\u001b[0m\n\u001b[0m\u001b[0;32m      2\u001b[0m \u001b[0mlast_row_index\u001b[0m\u001b[1;33m\u001b[0m\u001b[0m\n",
      "\u001b[1;31mAttributeError\u001b[0m: 'Range' object has no attribute 'last_row_index'"
     ]
    }
   ],
   "source": [
    "last_row_index=xw.Range('A1').expand('table').last_cell.last_cell.row #这表格最后一列 \n",
    "last_row_index"
   ]
  },
  {
   "cell_type": "code",
   "execution_count": 12,
   "metadata": {},
   "outputs": [
    {
     "name": "stdout",
     "output_type": "stream",
     "text": [
      "A1:B5\n"
     ]
    }
   ],
   "source": [
    "rg = \"A1:B\" + str(last_row_index) #范围  \n",
    "print(rg)  "
   ]
  },
  {
   "cell_type": "code",
   "execution_count": 13,
   "metadata": {},
   "outputs": [
    {
     "name": "stdout",
     "output_type": "stream",
     "text": [
      "[['姓名', '成绩'], ['张', 111.0], ['三', 222.0], ['李', 333.0], ['四', 444.0]]\n"
     ]
    }
   ],
   "source": [
    "work_detail = xw.Range(rg).value #选中范围的值  \n",
    "  \n",
    "print(work_detail)  \n",
    "  "
   ]
  },
  {
   "cell_type": "code",
   "execution_count": 15,
   "metadata": {},
   "outputs": [],
   "source": [
    "filename1=\"C:\\\\Users\\\\choven\\\\Desktop\\\\test1.xlsx\"  #读取文件名称  \n",
    "  \n",
    "wb1=xw.Book(filename1) #打开文件  \n",
    "detail_sheet1=xw.Sheet(\"Sheet1\") #sheet名称  \n",
    "  \n",
    "#last_row_index2=xw.Range('A1').expand('table').last_cell.row #这表格最后一列  \n",
    "\n",
    "#last_row_index1=last_row_index1+1   #last_row_index1=last_row_index1+1 \n",
    "  \n",
    "#纵向排列\n",
    "#xw.Range('A'+str(last_row_index1)).expand('table').value = work_detail  \n",
    "#横向排列\n",
    "xw.Range('C1').expand('table').value = work_detail \n",
    "  \n",
    "wb1.save(\"C:\\\\Users\\\\choven\\\\Desktop\\\\test4.xlsx\") #保存地址加文件名称  \n",
    "  \n",
    "wb1.close() "
   ]
  },
  {
   "cell_type": "markdown",
   "metadata": {},
   "source": [
    "# 通过pandas读取表格添加"
   ]
  },
  {
   "cell_type": "code",
   "execution_count": 16,
   "metadata": {},
   "outputs": [],
   "source": [
    "import pandas as pd\n",
    "import numpy as np"
   ]
  },
  {
   "cell_type": "code",
   "execution_count": 17,
   "metadata": {},
   "outputs": [
    {
     "data": {
      "text/html": [
       "<div>\n",
       "<style scoped>\n",
       "    .dataframe tbody tr th:only-of-type {\n",
       "        vertical-align: middle;\n",
       "    }\n",
       "\n",
       "    .dataframe tbody tr th {\n",
       "        vertical-align: top;\n",
       "    }\n",
       "\n",
       "    .dataframe thead th {\n",
       "        text-align: right;\n",
       "    }\n",
       "</style>\n",
       "<table border=\"1\" class=\"dataframe\">\n",
       "  <thead>\n",
       "    <tr style=\"text-align: right;\">\n",
       "      <th></th>\n",
       "      <th>类别</th>\n",
       "      <th>数值</th>\n",
       "    </tr>\n",
       "  </thead>\n",
       "  <tbody>\n",
       "    <tr>\n",
       "      <th>0</th>\n",
       "      <td>A</td>\n",
       "      <td>12.78</td>\n",
       "    </tr>\n",
       "    <tr>\n",
       "      <th>1</th>\n",
       "      <td>B</td>\n",
       "      <td>134</td>\n",
       "    </tr>\n",
       "    <tr>\n",
       "      <th>2</th>\n",
       "      <td>D</td>\n",
       "      <td>78.2</td>\n",
       "    </tr>\n",
       "    <tr>\n",
       "      <th>3</th>\n",
       "      <td>E</td>\n",
       "      <td>89</td>\n",
       "    </tr>\n",
       "    <tr>\n",
       "      <th>4</th>\n",
       "      <td>姓名</td>\n",
       "      <td>成绩</td>\n",
       "    </tr>\n",
       "    <tr>\n",
       "      <th>5</th>\n",
       "      <td>张</td>\n",
       "      <td>111</td>\n",
       "    </tr>\n",
       "    <tr>\n",
       "      <th>6</th>\n",
       "      <td>三</td>\n",
       "      <td>222</td>\n",
       "    </tr>\n",
       "    <tr>\n",
       "      <th>7</th>\n",
       "      <td>李</td>\n",
       "      <td>333</td>\n",
       "    </tr>\n",
       "    <tr>\n",
       "      <th>8</th>\n",
       "      <td>四</td>\n",
       "      <td>444</td>\n",
       "    </tr>\n",
       "  </tbody>\n",
       "</table>\n",
       "</div>"
      ],
      "text/plain": [
       "   类别     数值\n",
       "0   A  12.78\n",
       "1   B    134\n",
       "2   D   78.2\n",
       "3   E     89\n",
       "4  姓名     成绩\n",
       "5   张    111\n",
       "6   三    222\n",
       "7   李    333\n",
       "8   四    444"
      ]
     },
     "execution_count": 17,
     "metadata": {},
     "output_type": "execute_result"
    }
   ],
   "source": [
    "pd_data = pd.read_excel('C:\\\\Users\\\\choven\\\\Desktop\\\\test3.xlsx',sheet_name='Sheet1')\n",
    "pd_data"
   ]
  },
  {
   "cell_type": "code",
   "execution_count": 18,
   "metadata": {},
   "outputs": [],
   "source": [
    "filename2=\"C:\\\\Users\\\\choven\\\\Desktop\\\\test4.xlsx\"  #读取文件名称  \n",
    "  \n",
    "wb1=xw.Book(filename2) #打开文件  \n",
    "detail_sheet1=xw.Sheet(\"Sheet1\") #sheet名称  \n",
    "  \n",
    " \n",
    "#纵向排列\n",
    "#xw.Range('A'+str(last_row_index1)).expand('table').value = work_detail  \n",
    "#横向排列\n",
    "xw.Range('E1').expand('table').value = pd_data\n",
    "  \n",
    "wb1.save(\"C:\\\\Users\\\\choven\\\\Desktop\\\\test5.xlsx\") #保存地址加文件名称  \n",
    "  \n",
    "wb1.close() "
   ]
  },
  {
   "cell_type": "code",
   "execution_count": 20,
   "metadata": {},
   "outputs": [
    {
     "data": {
      "text/html": [
       "<div>\n",
       "<style scoped>\n",
       "    .dataframe tbody tr th:only-of-type {\n",
       "        vertical-align: middle;\n",
       "    }\n",
       "\n",
       "    .dataframe tbody tr th {\n",
       "        vertical-align: top;\n",
       "    }\n",
       "\n",
       "    .dataframe thead th {\n",
       "        text-align: right;\n",
       "    }\n",
       "</style>\n",
       "<table border=\"1\" class=\"dataframe\">\n",
       "  <thead>\n",
       "    <tr style=\"text-align: right;\">\n",
       "      <th></th>\n",
       "      <th>类别</th>\n",
       "      <th>数值</th>\n",
       "      <th>姓名</th>\n",
       "      <th>成绩</th>\n",
       "      <th>Unnamed: 4</th>\n",
       "      <th>类别.1</th>\n",
       "      <th>数值.1</th>\n",
       "    </tr>\n",
       "  </thead>\n",
       "  <tbody>\n",
       "    <tr>\n",
       "      <th>0</th>\n",
       "      <td>A</td>\n",
       "      <td>12.78</td>\n",
       "      <td>张</td>\n",
       "      <td>111.0</td>\n",
       "      <td>0</td>\n",
       "      <td>A</td>\n",
       "      <td>12.78</td>\n",
       "    </tr>\n",
       "    <tr>\n",
       "      <th>1</th>\n",
       "      <td>B</td>\n",
       "      <td>134.00</td>\n",
       "      <td>三</td>\n",
       "      <td>222.0</td>\n",
       "      <td>1</td>\n",
       "      <td>B</td>\n",
       "      <td>134</td>\n",
       "    </tr>\n",
       "    <tr>\n",
       "      <th>2</th>\n",
       "      <td>D</td>\n",
       "      <td>78.20</td>\n",
       "      <td>李</td>\n",
       "      <td>333.0</td>\n",
       "      <td>2</td>\n",
       "      <td>D</td>\n",
       "      <td>78.2</td>\n",
       "    </tr>\n",
       "    <tr>\n",
       "      <th>3</th>\n",
       "      <td>E</td>\n",
       "      <td>89.00</td>\n",
       "      <td>四</td>\n",
       "      <td>444.0</td>\n",
       "      <td>3</td>\n",
       "      <td>E</td>\n",
       "      <td>89</td>\n",
       "    </tr>\n",
       "    <tr>\n",
       "      <th>4</th>\n",
       "      <td>NaN</td>\n",
       "      <td>NaN</td>\n",
       "      <td>NaN</td>\n",
       "      <td>NaN</td>\n",
       "      <td>4</td>\n",
       "      <td>姓名</td>\n",
       "      <td>成绩</td>\n",
       "    </tr>\n",
       "    <tr>\n",
       "      <th>5</th>\n",
       "      <td>NaN</td>\n",
       "      <td>NaN</td>\n",
       "      <td>NaN</td>\n",
       "      <td>NaN</td>\n",
       "      <td>5</td>\n",
       "      <td>张</td>\n",
       "      <td>111</td>\n",
       "    </tr>\n",
       "    <tr>\n",
       "      <th>6</th>\n",
       "      <td>NaN</td>\n",
       "      <td>NaN</td>\n",
       "      <td>NaN</td>\n",
       "      <td>NaN</td>\n",
       "      <td>6</td>\n",
       "      <td>三</td>\n",
       "      <td>222</td>\n",
       "    </tr>\n",
       "    <tr>\n",
       "      <th>7</th>\n",
       "      <td>NaN</td>\n",
       "      <td>NaN</td>\n",
       "      <td>NaN</td>\n",
       "      <td>NaN</td>\n",
       "      <td>7</td>\n",
       "      <td>李</td>\n",
       "      <td>333</td>\n",
       "    </tr>\n",
       "    <tr>\n",
       "      <th>8</th>\n",
       "      <td>NaN</td>\n",
       "      <td>NaN</td>\n",
       "      <td>NaN</td>\n",
       "      <td>NaN</td>\n",
       "      <td>8</td>\n",
       "      <td>四</td>\n",
       "      <td>444</td>\n",
       "    </tr>\n",
       "  </tbody>\n",
       "</table>\n",
       "</div>"
      ],
      "text/plain": [
       "    类别      数值   姓名     成绩  Unnamed: 4 类别.1   数值.1\n",
       "0    A   12.78    张  111.0           0    A  12.78\n",
       "1    B  134.00    三  222.0           1    B    134\n",
       "2    D   78.20    李  333.0           2    D   78.2\n",
       "3    E   89.00    四  444.0           3    E     89\n",
       "4  NaN     NaN  NaN    NaN           4   姓名     成绩\n",
       "5  NaN     NaN  NaN    NaN           5    张    111\n",
       "6  NaN     NaN  NaN    NaN           6    三    222\n",
       "7  NaN     NaN  NaN    NaN           7    李    333\n",
       "8  NaN     NaN  NaN    NaN           8    四    444"
      ]
     },
     "execution_count": 20,
     "metadata": {},
     "output_type": "execute_result"
    }
   ],
   "source": [
    "pd.read_excel(\"C:\\\\Users\\\\choven\\\\Desktop\\\\test5.xlsx\" ,sheet_name='Sheet1')\n"
   ]
  },
  {
   "cell_type": "code",
   "execution_count": null,
   "metadata": {},
   "outputs": [],
   "source": []
  }
 ],
 "metadata": {
  "kernelspec": {
   "display_name": "Python 3",
   "language": "python",
   "name": "python3"
  },
  "language_info": {
   "codemirror_mode": {
    "name": "ipython",
    "version": 3
   },
   "file_extension": ".py",
   "mimetype": "text/x-python",
   "name": "python",
   "nbconvert_exporter": "python",
   "pygments_lexer": "ipython3",
   "version": "3.5.4"
  }
 },
 "nbformat": 4,
 "nbformat_minor": 2
}
