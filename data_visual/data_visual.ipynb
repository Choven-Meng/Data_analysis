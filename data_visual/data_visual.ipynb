{
 "cells": [
  {
   "cell_type": "markdown",
   "metadata": {},
   "source": [
    "# 散点图"
   ]
  },
  {
   "cell_type": "markdown",
   "metadata": {},
   "source": [
    "由于可以直接看到原始数据的分布，散点图对于展示两个变量之间的关系非常有用。你还可以通过用颜色将数据分组来观察不同组数据之间的关系"
   ]
  },
  {
   "cell_type": "markdown",
   "metadata": {},
   "source": [
    "首先将 Matplotlib 的 pyplot 导入为 plt，并调用函数 plt.subplots() 来创建新的图。我们将 x 轴和 y 轴的数据传递给该函数，然后将其传递给 ax.scatter() 来画出散点图。我们还可以设置点半径、点颜色和 alpha 透明度，甚至将 y 轴设置为对数尺寸，最后为图指定标题和坐标轴标签。"
   ]
  },
  {
   "cell_type": "code",
   "execution_count": null,
   "metadata": {},
   "outputs": [],
   "source": [
    "import matplotlib.pyplot as plt\n",
    "import numpy as np\n",
    "\n",
    "def scatterplot(x_data, y_data, x_label=\"\", y_label=\"\", title=\"\", color = \"r\", yscale_log=False):\n",
    "\n",
    "    # Create the plot object\n",
    "    _, ax = plt.subplots()\n",
    "\n",
    "    # Plot the data, set the size (s), color and transparency (alpha)\n",
    "    # of the points\n",
    "    ax.scatter(x_data, y_data, s = 10, color = color, alpha = 0.75)\n",
    "\n",
    "    if yscale_log == True:\n",
    "        ax.set_yscale('log')\n",
    "\n",
    "    # Label the axes and provide a title\n",
    "    ax.set_title(title)\n",
    "    ax.set_xlabel(x_label)\n",
    "    ax.set_ylabel(y_label)"
   ]
  },
  {
   "cell_type": "markdown",
   "metadata": {},
   "source": [
    "# 线图"
   ]
  },
  {
   "cell_type": "markdown",
   "metadata": {},
   "source": [
    "当一个变量随另一个变量的变化而变化的幅度很大时，即它们有很高的协方差时，线图非常好用"
   ]
  },
  {
   "cell_type": "code",
   "execution_count": null,
   "metadata": {},
   "outputs": [],
   "source": [
    "def lineplot(x_data, y_data, x_label=\"\", y_label=\"\", title=\"\"):\n",
    "    # Create the plot object\n",
    "    _, ax = plt.subplots()\n",
    "\n",
    "    # Plot the best fit line, set the linewidth (lw), color and\n",
    "    # transparency (alpha) of the line\n",
    "    ax.plot(x_data, y_data, lw = 2, color = '#539caf', alpha = 1)\n",
    "\n",
    "    # Label the axes and provide a title\n",
    "    ax.set_title(title)\n",
    "    ax.set_xlabel(x_label)\n",
    "    ax.set_ylabel(y_label)"
   ]
  },
  {
   "cell_type": "markdown",
   "metadata": {},
   "source": [
    "# 直方图"
   ]
  },
  {
   "cell_type": "markdown",
   "metadata": {},
   "source": [
    "直方图对于观察或真正了解数据点的分布十分有用。可以直观地了解分布的集中度（方差）与中位数，也可以了解到该分布的形状近似服从于高斯分布。使用这种柱形（而不是散点图等）可以清楚地可视化每一个箱体（X 轴的一个等距区间）间频率的变化。使用箱体（离散化）确实能帮助我们观察到「更完整的图像」，因为使用所有数据点而不采用离散化会观察不到近似的数据分布，可能在可视化中存在许多噪声，使其只能近似地而不能描述真正的数据分布。"
   ]
  },
  {
   "cell_type": "markdown",
   "metadata": {},
   "source": [
    "面展示了 Matplotlib 中绘制直方图的代码。这里有两个步骤需要注意，首先，n_bins 参数控制直方图的箱体数量或离散化程度。更多的箱体或柱体能给我们提供更多的信息，但同样也会引入噪声并使我们观察到的全局分布图像变得不太规则。而更少的箱体将给我们更多的全局信息，我们可以在缺少细节信息的情况下观察到整体分布的形状。其次，cumulative 参数是一个布尔值，它允许我们选择直方图是不是累积的，即选择概率密度函数（PDF）或累积密度函数（CDF）。"
   ]
  },
  {
   "cell_type": "code",
   "execution_count": 2,
   "metadata": {},
   "outputs": [],
   "source": [
    "def histogram(data, n_bins, cumulative=False, x_label = \"\", y_label = \"\", title = \"\"):\n",
    "    _, ax = plt.subplots()\n",
    "    ax.hist(data, n_bins = n_bins, cumulative = cumulative, color = '#539caf')\n",
    "    ax.set_ylabel(y_label)\n",
    "    ax.set_xlabel(x_label)\n",
    "    ax.set_title(title)"
   ]
  },
  {
   "cell_type": "markdown",
   "metadata": {},
   "source": [
    "如果我们希望比较数据中两个变量的分布，有人可能会认为我们需要制作两个独立的直方图，并将它们拼接在一起而进行比较。\n",
    "但实际上 Matplotlib 有更好的方法，可以用不同的透明度叠加多个直方图。"
   ]
  },
  {
   "cell_type": "markdown",
   "metadata": {},
   "source": [
    "在叠加直方图的代码中，我们需要注意几个问题。首先，我们设定的水平区间要同时满足两个变量的分布。根据水平区间的范围和箱体数，我们可以计算每个箱体的宽度。其次，我们在一个图表上绘制两个直方图，需要保证一个直方图存在更大的透明度。"
   ]
  },
  {
   "cell_type": "code",
   "execution_count": 5,
   "metadata": {},
   "outputs": [],
   "source": [
    "#Overlay 2 histograms to compare them\n",
    "def overlaid_histogram(data1, data2, n_bins = 0, data1_name=\"\", data1_color=\"#539caf\", data2_name=\"\", data2_color=\"#7663b0\", x_label=\"\", y_label=\"\", title=\"\"):\n",
    "    # Set the bounds for the bins so that the two distributions are fairly compared\n",
    "    max_nbins = 10\n",
    "    data_range = [min(min(data1), min(data2)), max(max(data1), max(data2))]\n",
    "    binwidth = (data_range[1] - data_range[0]) / max_nbins\n",
    "\n",
    "\n",
    "    if n_bins == 0:\n",
    "        bins = np.arange(data_range[0], data_range[1] + binwidth, binwidth)\n",
    "    else: \n",
    "        bins = n_bins\n",
    "\n",
    "    # Create the plot\n",
    "    _, ax = plt.subplots()\n",
    "    ax.hist(data1, bins = bins, color = data1_color, alpha = 1, label = data1_name)\n",
    "    ax.hist(data2, bins = bins, color = data2_color, alpha = 0.75, label = data2_name)\n",
    "    ax.set_ylabel(y_label)\n",
    "    ax.set_xlabel(x_label)\n",
    "    ax.set_title(title)\n",
    "    ax.legend(loc = 'best')"
   ]
  },
  {
   "cell_type": "markdown",
   "metadata": {},
   "source": [
    "# 条形图"
   ]
  },
  {
   "cell_type": "markdown",
   "metadata": {},
   "source": [
    "当对类别数很少（<10）的分类数据进行可视化时，条形图是最有效的。当类别数太多时，条形图将变得很杂乱，难以理解。你可以基于条形的数量观察不同类别之间的区别，不同的类别可以轻易地分离以及用颜色分组。我们将介绍三种类型的条形图：常规、分组和堆叠条形图。"
   ]
  },
  {
   "cell_type": "markdown",
   "metadata": {},
   "source": [
    "## 常规\n",
    "\n",
    "在 barplot() 函数中，x_data 表示 x 轴上的不同类别，y_data 表示 y 轴上的条形高度。误差条形是额外添加在每个条形中心上的线，可用于表示标准差。"
   ]
  },
  {
   "cell_type": "code",
   "execution_count": 6,
   "metadata": {},
   "outputs": [],
   "source": [
    "def barplot(x_data, y_data, error_data, x_label=\"\", y_label=\"\", title=\"\"):\n",
    "    _, ax = plt.subplots()\n",
    "    # Draw bars, position them in the center of the tick mark on the x-axis\n",
    "    ax.bar(x_data, y_data, color = '#539caf', align = 'center')\n",
    "    # Draw error bars to show standard deviation, set ls to 'none'\n",
    "    # to remove line between points\n",
    "    ax.errorbar(x_data, y_data, yerr = error_data, color = '#297083', ls = 'none', lw = 2, capthick = 2)\n",
    "    ax.set_ylabel(y_label)\n",
    "    ax.set_xlabel(x_label)\n",
    "    ax.set_title(title)"
   ]
  },
  {
   "cell_type": "markdown",
   "metadata": {},
   "source": [
    "## 分组条形图\n",
    "\n",
    "分组条形图允许我们比较多个类别变量。第一个变量会随不同的分组（G1、G2 等）而变化，我们在每一组上比较不同的性别。正如代码所示，y_data_list 变量现在实际上是一组列表，其中每个子列表代表了一个不同的组。然后我们循环地遍历每一个组，并在 X 轴上绘制柱体和对应的值，每一个分组的不同类别将使用不同的颜色表示。"
   ]
  },
  {
   "cell_type": "code",
   "execution_count": 7,
   "metadata": {},
   "outputs": [],
   "source": [
    "def stackedbarplot(x_data, y_data_list, colors, y_data_names=\"\", x_label=\"\", y_label=\"\", title=\"\"):\n",
    "    _, ax = plt.subplots()\n",
    "    # Draw bars, one category at a time\n",
    "    for i in range(0, len(y_data_list)):\n",
    "        if i == 0:\n",
    "            ax.bar(x_data, y_data_list[i], color = colors[i], align = 'center', label = y_data_names[i])\n",
    "        else:\n",
    "            # For each category after the first, the bottom of the\n",
    "            # bar will be the top of the last category\n",
    "            ax.bar(x_data, y_data_list[i], color = colors[i], bottom = y_data_list[i - 1], align = 'center', label = y_data_names[i])\n",
    "    ax.set_ylabel(y_label)\n",
    "    ax.set_xlabel(x_label)\n",
    "    ax.set_title(title)\n",
    "    #图标放在右边\n",
    "    ax.legend(loc = 'upper right')\n"
   ]
  },
  {
   "cell_type": "markdown",
   "metadata": {},
   "source": [
    "## 堆叠条形图\n",
    "\n",
    "堆叠条形图非常适合于可视化不同变量的分类构成。通过使用不同颜色的方块堆叠在同一条形图上，我们可以轻松查看并了解不同。绘制该图的代码与分组条形图有相同的风格，我们循环地遍历每一组，但我们这次在旧的柱体之上而不是旁边绘制新的柱体。"
   ]
  },
  {
   "cell_type": "code",
   "execution_count": 8,
   "metadata": {},
   "outputs": [],
   "source": [
    "def groupedbarplot(x_data, y_data_list, colors, y_data_names=\"\", x_label=\"\", y_label=\"\", title=\"\"):\n",
    "    _, ax = plt.subplots()\n",
    "    # Total width for all bars at one x location\n",
    "    total_width = 0.8\n",
    "    # Width of each individual bar\n",
    "    ind_width = total_width / len(y_data_list)\n",
    "    # This centers each cluster of bars about the x tick mark\n",
    "    alteration = np.arange(-(total_width/2), total_width/2, ind_width)\n",
    "\n",
    "\n",
    "    # Draw bars, one category at a time\n",
    "    for i in range(0, len(y_data_list)):\n",
    "        # Move the bar to the right on the x-axis so it doesn't\n",
    "        # overlap with previously drawn ones\n",
    "        ax.bar(x_data + alteration[i], y_data_list[i], color = colors[i], label = y_data_names[i], width = ind_width)\n",
    "    ax.set_ylabel(y_label)\n",
    "    ax.set_xlabel(x_label)\n",
    "    ax.set_title(title)\n",
    "    ax.legend(loc = 'upper right')"
   ]
  },
  {
   "cell_type": "markdown",
   "metadata": {},
   "source": [
    "# 箱线图"
   ]
  },
  {
   "cell_type": "code",
   "execution_count": 9,
   "metadata": {},
   "outputs": [],
   "source": [
    "def boxplot(x_data, y_data, base_color=\"#539caf\", median_color=\"#297083\", x_label=\"\", y_label=\"\", title=\"\"):\n",
    "    _, ax = plt.subplots()\n",
    "\n",
    "    # Draw boxplots, specifying desired style\n",
    "    ax.boxplot(y_data\n",
    "               # patch_artist must be True to control box fill\n",
    "               , patch_artist = True\n",
    "               # Properties of median line\n",
    "               , medianprops = {'color': median_color}\n",
    "               # Properties of box\n",
    "               , boxprops = {'color': base_color, 'facecolor': base_color}\n",
    "               # Properties of whiskers\n",
    "               , whiskerprops = {'color': base_color}\n",
    "               # Properties of whisker caps\n",
    "               , capprops = {'color': base_color})\n",
    "\n",
    "    # By default, the tick label starts at 1 and increments by 1 for\n",
    "    # each box drawn. This sets the labels to the ones we want\n",
    "    ax.set_xticklabels(x_data)\n",
    "    ax.set_ylabel(y_label)\n",
    "    ax.set_xlabel(x_label)\n",
    "    ax.set_title(title)\n"
   ]
  },
  {
   "cell_type": "code",
   "execution_count": null,
   "metadata": {},
   "outputs": [],
   "source": []
  }
 ],
 "metadata": {
  "kernelspec": {
   "display_name": "Python 3",
   "language": "python",
   "name": "python3"
  },
  "language_info": {
   "codemirror_mode": {
    "name": "ipython",
    "version": 3
   },
   "file_extension": ".py",
   "mimetype": "text/x-python",
   "name": "python",
   "nbconvert_exporter": "python",
   "pygments_lexer": "ipython3",
   "version": "3.6.4"
  }
 },
 "nbformat": 4,
 "nbformat_minor": 2
}
