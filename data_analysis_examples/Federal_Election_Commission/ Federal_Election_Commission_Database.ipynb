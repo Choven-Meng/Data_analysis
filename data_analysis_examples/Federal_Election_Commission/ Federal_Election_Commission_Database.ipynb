{
 "cells": [
  {
   "cell_type": "markdown",
   "metadata": {},
   "source": [
    "# 2012 美国选举数据"
   ]
  },
  {
   "cell_type": "code",
   "execution_count": 28,
   "metadata": {},
   "outputs": [],
   "source": [
    "import pandas as pd\n",
    "import numpy as np\n",
    "import matplotlib.pyplot as plt\n",
    "%matplotlib inline\n",
    "import warnings\n",
    "import warnings\n",
    "warnings.filterwarnings('ignore')"
   ]
  },
  {
   "cell_type": "code",
   "execution_count": 29,
   "metadata": {},
   "outputs": [],
   "source": [
    "#为了直观的显示数字，不采用科学记数法\n",
    "pd.set_option('display.float_format', lambda x : '%.4f' % x)"
   ]
  },
  {
   "cell_type": "code",
   "execution_count": 30,
   "metadata": {},
   "outputs": [
    {
     "name": "stdout",
     "output_type": "stream",
     "text": [
      "<class 'pandas.core.frame.DataFrame'>\n",
      "RangeIndex: 1001731 entries, 0 to 1001730\n",
      "Data columns (total 16 columns):\n",
      "cmte_id              1001731 non-null object\n",
      "cand_id              1001731 non-null object\n",
      "cand_nm              1001731 non-null object\n",
      "contbr_nm            1001731 non-null object\n",
      "contbr_city          1001712 non-null object\n",
      "contbr_st            1001727 non-null object\n",
      "contbr_zip           1001620 non-null object\n",
      "contbr_employer      988002 non-null object\n",
      "contbr_occupation    993301 non-null object\n",
      "contb_receipt_amt    1001731 non-null float64\n",
      "contb_receipt_dt     1001731 non-null object\n",
      "receipt_desc         14166 non-null object\n",
      "memo_cd              92482 non-null object\n",
      "memo_text            97770 non-null object\n",
      "form_tp              1001731 non-null object\n",
      "file_num             1001731 non-null int64\n",
      "dtypes: float64(1), int64(1), object(14)\n",
      "memory usage: 122.3+ MB\n"
     ]
    }
   ],
   "source": [
    "fec = pd.read_csv('C:\\\\Users\\\\choven\\\\Desktop\\\\pydata-book-2nd-edition\\\\datasets\\\\fec\\\\P00000001-ALL.csv')\n",
    "fec.info()"
   ]
  },
  {
   "cell_type": "code",
   "execution_count": 31,
   "metadata": {},
   "outputs": [
    {
     "data": {
      "text/plain": [
       "cmte_id                             C00431445\n",
       "cand_id                             P80003338\n",
       "cand_nm                         Obama, Barack\n",
       "contbr_nm                         ELLMAN, IRA\n",
       "contbr_city                             TEMPE\n",
       "contbr_st                                  AZ\n",
       "contbr_zip                          852816719\n",
       "contbr_employer      ARIZONA STATE UNIVERSITY\n",
       "contbr_occupation                   PROFESSOR\n",
       "contb_receipt_amt                     50.0000\n",
       "contb_receipt_dt                    01-DEC-11\n",
       "receipt_desc                              NaN\n",
       "memo_cd                                   NaN\n",
       "memo_text                                 NaN\n",
       "form_tp                                 SA17A\n",
       "file_num                               772372\n",
       "Name: 123456, dtype: object"
      ]
     },
     "execution_count": 31,
     "metadata": {},
     "output_type": "execute_result"
    }
   ],
   "source": [
    "#查看某条数据信息\n",
    "fec.iloc[123456]"
   ]
  },
  {
   "cell_type": "markdown",
   "metadata": {},
   "source": [
    "---"
   ]
  },
  {
   "cell_type": "markdown",
   "metadata": {},
   "source": [
    "### 建立字典映射党派关系"
   ]
  },
  {
   "cell_type": "code",
   "execution_count": 32,
   "metadata": {},
   "outputs": [
    {
     "data": {
      "text/plain": [
       "array(['Bachmann, Michelle', 'Romney, Mitt', 'Obama, Barack',\n",
       "       \"Roemer, Charles E. 'Buddy' III\", 'Pawlenty, Timothy',\n",
       "       'Johnson, Gary Earl', 'Paul, Ron', 'Santorum, Rick',\n",
       "       'Cain, Herman', 'Gingrich, Newt', 'McCotter, Thaddeus G',\n",
       "       'Huntsman, Jon', 'Perry, Rick'], dtype=object)"
      ]
     },
     "execution_count": 32,
     "metadata": {},
     "output_type": "execute_result"
    }
   ],
   "source": [
    "#获取全部候选人名单\n",
    "unique_cands = fec.cand_nm.unique()\n",
    "unique_cands"
   ]
  },
  {
   "cell_type": "code",
   "execution_count": 33,
   "metadata": {},
   "outputs": [],
   "source": [
    "parties = {'Bachmann, Michelle': 'Republican',\n",
    "           'Cain, Herman': 'Republican',\n",
    "           'Gingrich, Newt': 'Republican',\n",
    "           'Huntsman, Jon': 'Republican',\n",
    "           'Johnson, Gary Earl': 'Republican',\n",
    "           'McCotter, Thaddeus G': 'Republican',\n",
    "           'Obama, Barack': 'Democrat',\n",
    "           'Paul, Ron': 'Republican',\n",
    "           'Pawlenty, Timothy': 'Republican',\n",
    "           'Perry, Rick': 'Republican',\n",
    "           \"Roemer, Charles E. 'Buddy' III\": 'Republican',\n",
    "           'Romney, Mitt': 'Republican',\n",
    "           'Santorum, Rick': 'Republican'}"
   ]
  },
  {
   "cell_type": "code",
   "execution_count": 34,
   "metadata": {},
   "outputs": [
    {
     "data": {
      "text/plain": [
       "Democrat      593746\n",
       "Republican    407985\n",
       "Name: party, dtype: int64"
      ]
     },
     "execution_count": 34,
     "metadata": {},
     "output_type": "execute_result"
    }
   ],
   "source": [
    "#将党派添加为一个新列\n",
    "fec['party'] = fec.cand_nm.map(parties)\n",
    "fec['party'].value_counts()"
   ]
  },
  {
   "cell_type": "code",
   "execution_count": 35,
   "metadata": {},
   "outputs": [
    {
     "data": {
      "text/plain": [
       "True     991475\n",
       "False     10256\n",
       "Name: contb_receipt_amt, dtype: int64"
      ]
     },
     "execution_count": 35,
     "metadata": {},
     "output_type": "execute_result"
    }
   ],
   "source": [
    "#查看赞助及出资额的情况\n",
    "(fec.contb_receipt_amt > 0).value_counts()"
   ]
  },
  {
   "cell_type": "code",
   "execution_count": 36,
   "metadata": {},
   "outputs": [],
   "source": [
    "#只显示赞助的及出资额为正的数据\n",
    "fec = fec[fec.contb_receipt_amt > 0]"
   ]
  },
  {
   "cell_type": "code",
   "execution_count": 37,
   "metadata": {},
   "outputs": [],
   "source": [
    "#只包含重要信息的子集，即obama和romney的竞选信息\n",
    "fec_sub = fec[fec.cand_nm.isin(['Obama, Barack','Romney, Mitt'])]"
   ]
  },
  {
   "cell_type": "markdown",
   "metadata": {},
   "source": [
    "---"
   ]
  },
  {
   "cell_type": "markdown",
   "metadata": {},
   "source": [
    "## 根据职业和雇主统计赞助信息。基于职业的赞助信息统计"
   ]
  },
  {
   "cell_type": "code",
   "execution_count": 38,
   "metadata": {},
   "outputs": [
    {
     "data": {
      "text/plain": [
       "RETIRED                                   233990\n",
       "INFORMATION REQUESTED                      35107\n",
       "ATTORNEY                                   34286\n",
       "HOMEMAKER                                  29931\n",
       "PHYSICIAN                                  23432\n",
       "INFORMATION REQUESTED PER BEST EFFORTS     21138\n",
       "ENGINEER                                   14334\n",
       "TEACHER                                    13990\n",
       "CONSULTANT                                 13273\n",
       "PROFESSOR                                  12555\n",
       "Name: contbr_occupation, dtype: int64"
      ]
     },
     "execution_count": 38,
     "metadata": {},
     "output_type": "execute_result"
    }
   ],
   "source": [
    "#获取赞助的职业及数量\n",
    "fec.contbr_occupation.value_counts()[:10]"
   ]
  },
  {
   "cell_type": "code",
   "execution_count": 43,
   "metadata": {},
   "outputs": [],
   "source": [
    "#许多职业涉及相同的基本工作类型，清理数据\n",
    "occ_mapping = {\n",
    "    'INFORMATION REQUESTED' : 'NOT PROVIDED',\n",
    "    'INFORMATION REQUESTED PER BEST EFFORTS' : 'NOT PROVIDED',\n",
    "    'INFORMATION REQUESTED (BEST EFFORTS)' : 'NOT PROVIDED',\n",
    "    'C.E.O.' : 'CEO'\n",
    "}\n",
    "#dict.get允许没有映射关系的也能通过，如果没有提供相关映射，则返回x\n",
    "f = lambda x: occ_mapping.get(x,x)\n",
    "fec.contbr_occupation = fec.contbr_occupation.map(f)"
   ]
  },
  {
   "cell_type": "code",
   "execution_count": 44,
   "metadata": {},
   "outputs": [],
   "source": [
    "#同理清理雇主数据\n",
    "emp_mapping = {\n",
    "    'INFORMATION REQUESTED PER BEST EFFORTS' : 'NOT PROVIDED',\n",
    "    'INFORMATION REQUESTED' : 'NOT PROVIDED',\n",
    "    'SELF' : 'SELF-EMPLOYED',\n",
    "    'SELF EMPLOYED' : 'SELF-EMPLOYED'\n",
    "}\n",
    "f = lambda x: emp_mapping.get(x,x)\n",
    "fec.contbr_employer = fec.contbr_employer.map(f)"
   ]
  },
  {
   "cell_type": "code",
   "execution_count": 45,
   "metadata": {},
   "outputs": [
    {
     "data": {
      "text/html": [
       "<div>\n",
       "<style scoped>\n",
       "    .dataframe tbody tr th:only-of-type {\n",
       "        vertical-align: middle;\n",
       "    }\n",
       "\n",
       "    .dataframe tbody tr th {\n",
       "        vertical-align: top;\n",
       "    }\n",
       "\n",
       "    .dataframe thead th {\n",
       "        text-align: right;\n",
       "    }\n",
       "</style>\n",
       "<table border=\"1\" class=\"dataframe\">\n",
       "  <thead>\n",
       "    <tr style=\"text-align: right;\">\n",
       "      <th>party</th>\n",
       "      <th>Democrat</th>\n",
       "      <th>Republican</th>\n",
       "    </tr>\n",
       "    <tr>\n",
       "      <th>contbr_occupation</th>\n",
       "      <th></th>\n",
       "      <th></th>\n",
       "    </tr>\n",
       "  </thead>\n",
       "  <tbody>\n",
       "    <tr>\n",
       "      <th>ATTORNEY</th>\n",
       "      <td>11141982.9700</td>\n",
       "      <td>7477194.4300</td>\n",
       "    </tr>\n",
       "    <tr>\n",
       "      <th>CEO</th>\n",
       "      <td>2074974.7900</td>\n",
       "      <td>4211040.5200</td>\n",
       "    </tr>\n",
       "    <tr>\n",
       "      <th>CONSULTANT</th>\n",
       "      <td>2459912.7100</td>\n",
       "      <td>2544725.4500</td>\n",
       "    </tr>\n",
       "    <tr>\n",
       "      <th>ENGINEER</th>\n",
       "      <td>951525.5500</td>\n",
       "      <td>1818373.7000</td>\n",
       "    </tr>\n",
       "    <tr>\n",
       "      <th>EXECUTIVE</th>\n",
       "      <td>1355161.0500</td>\n",
       "      <td>4138850.0900</td>\n",
       "    </tr>\n",
       "    <tr>\n",
       "      <th>HOMEMAKER</th>\n",
       "      <td>4248875.8000</td>\n",
       "      <td>13634275.7800</td>\n",
       "    </tr>\n",
       "    <tr>\n",
       "      <th>INVESTOR</th>\n",
       "      <td>884133.0000</td>\n",
       "      <td>2431768.9200</td>\n",
       "    </tr>\n",
       "    <tr>\n",
       "      <th>LAWYER</th>\n",
       "      <td>3160478.8700</td>\n",
       "      <td>391224.3200</td>\n",
       "    </tr>\n",
       "    <tr>\n",
       "      <th>MANAGER</th>\n",
       "      <td>762883.2200</td>\n",
       "      <td>1444532.3700</td>\n",
       "    </tr>\n",
       "    <tr>\n",
       "      <th>NOT PROVIDED</th>\n",
       "      <td>4866973.9600</td>\n",
       "      <td>20565473.0100</td>\n",
       "    </tr>\n",
       "    <tr>\n",
       "      <th>OWNER</th>\n",
       "      <td>1001567.3600</td>\n",
       "      <td>2408286.9200</td>\n",
       "    </tr>\n",
       "    <tr>\n",
       "      <th>PHYSICIAN</th>\n",
       "      <td>3735124.9400</td>\n",
       "      <td>3594320.2400</td>\n",
       "    </tr>\n",
       "    <tr>\n",
       "      <th>PRESIDENT</th>\n",
       "      <td>1878509.9500</td>\n",
       "      <td>4720923.7600</td>\n",
       "    </tr>\n",
       "    <tr>\n",
       "      <th>PROFESSOR</th>\n",
       "      <td>2165071.0800</td>\n",
       "      <td>296702.7300</td>\n",
       "    </tr>\n",
       "    <tr>\n",
       "      <th>REAL ESTATE</th>\n",
       "      <td>528902.0900</td>\n",
       "      <td>1625902.2500</td>\n",
       "    </tr>\n",
       "    <tr>\n",
       "      <th>RETIRED</th>\n",
       "      <td>25305116.3800</td>\n",
       "      <td>23561244.4900</td>\n",
       "    </tr>\n",
       "    <tr>\n",
       "      <th>SELF-EMPLOYED</th>\n",
       "      <td>672393.4000</td>\n",
       "      <td>1640252.5400</td>\n",
       "    </tr>\n",
       "  </tbody>\n",
       "</table>\n",
       "</div>"
      ],
      "text/plain": [
       "party                  Democrat    Republican\n",
       "contbr_occupation                            \n",
       "ATTORNEY          11141982.9700  7477194.4300\n",
       "CEO                2074974.7900  4211040.5200\n",
       "CONSULTANT         2459912.7100  2544725.4500\n",
       "ENGINEER            951525.5500  1818373.7000\n",
       "EXECUTIVE          1355161.0500  4138850.0900\n",
       "HOMEMAKER          4248875.8000 13634275.7800\n",
       "INVESTOR            884133.0000  2431768.9200\n",
       "LAWYER             3160478.8700   391224.3200\n",
       "MANAGER             762883.2200  1444532.3700\n",
       "NOT PROVIDED       4866973.9600 20565473.0100\n",
       "OWNER              1001567.3600  2408286.9200\n",
       "PHYSICIAN          3735124.9400  3594320.2400\n",
       "PRESIDENT          1878509.9500  4720923.7600\n",
       "PROFESSOR          2165071.0800   296702.7300\n",
       "REAL ESTATE         528902.0900  1625902.2500\n",
       "RETIRED           25305116.3800 23561244.4900\n",
       "SELF-EMPLOYED       672393.4000  1640252.5400"
      ]
     },
     "execution_count": 45,
     "metadata": {},
     "output_type": "execute_result"
    }
   ],
   "source": [
    "#根据党派和职业对数据进行聚合\n",
    "by_occupation = fec.pivot_table('contb_receipt_amt',index='contbr_occupation',columns='party',aggfunc='sum')\n",
    "#过滤掉总出资额低于200万美元的数据\n",
    "over_2mm = by_occupation[by_occupation.sum(1) > 2000000]\n",
    "over_2mm"
   ]
  },
  {
   "cell_type": "code",
   "execution_count": 46,
   "metadata": {},
   "outputs": [
    {
     "data": {
      "image/png": "[encoded data removed]",
      "text/plain": [
       "<matplotlib.figure.Figure at 0x2043b3a5588>"
      ]
     },
     "metadata": {},
     "output_type": "display_data"
    }
   ],
   "source": [
    "#柱状图\n",
    "over_2mm.plot(kind='barh',title='occ_receipt for party')\n",
    "plt.show()"
   ]
  },
  {
   "cell_type": "markdown",
   "metadata": {},
   "source": [
    "---"
   ]
  },
  {
   "cell_type": "markdown",
   "metadata": {},
   "source": [
    "## 分析对Obama和Romney总出资额最高的职业和企业"
   ]
  },
  {
   "cell_type": "code",
   "execution_count": 47,
   "metadata": {},
   "outputs": [],
   "source": [
    "#求取最大值\n",
    "def get_top_amounts(group,key,n=5):\n",
    "    totals = group.groupby(key)['contb_receipt_amt'].sum()\n",
    "    #根据key对totals降序\n",
    "    return totals.sort_values(ascending=False)[:n]"
   ]
  },
  {
   "cell_type": "code",
   "execution_count": 48,
   "metadata": {},
   "outputs": [],
   "source": [
    "#根据候选人聚合，即是Obama和Romney\n",
    "grouped = fec_sub.groupby('cand_nm')\n",
    "#职业，前7个\n",
    "occ_receipt_group = grouped.apply(get_top_amounts,'contbr_occupation',n=7)\n",
    "#雇主，前7个\n",
    "emp_receipt_group = grouped.apply(get_top_amounts,'contbr_employer',n=7)\n"
   ]
  },
  {
   "cell_type": "code",
   "execution_count": 52,
   "metadata": {},
   "outputs": [
    {
     "data": {
      "image/png": "[encoded data removed]",
      "text/plain": [
       "<matplotlib.figure.Figure at 0x20438d1c828>"
      ]
     },
     "metadata": {},
     "output_type": "display_data"
    }
   ],
   "source": [
    "#画图\n",
    "fig,axes = plt.subplots(2,1)\n",
    "occ_receipt_group.plot(kind='barh',ax=axes[0],title='occ_receipt_group',figsize=(10,10))\n",
    "emp_receipt_group.plot(kind='barh',ax=axes[1],title='emp_receipt_group',figsize=(10,10))\n",
    "plt.show()"
   ]
  },
  {
   "cell_type": "markdown",
   "metadata": {},
   "source": [
    "---"
   ]
  },
  {
   "cell_type": "markdown",
   "metadata": {},
   "source": [
    "## 对出资额分组\n",
    "\n",
    "### 分析两位候选人各种赞助额的比例"
   ]
  },
  {
   "cell_type": "code",
   "execution_count": 55,
   "metadata": {},
   "outputs": [
    {
     "data": {
      "text/plain": [
       "411      (10, 100]\n",
       "412    (100, 1000]\n",
       "413    (100, 1000]\n",
       "414      (10, 100]\n",
       "415      (10, 100]\n",
       "416      (10, 100]\n",
       "417    (100, 1000]\n",
       "418      (10, 100]\n",
       "419    (100, 1000]\n",
       "420      (10, 100]\n",
       "Name: contb_receipt_amt, dtype: category\n",
       "Categories (8, interval[int64]): [(0, 1] < (1, 10] < (10, 100] < (100, 1000] < (1000, 10000] < (10000, 100000] < (100000, 1000000] < (1000000, 10000000]]"
      ]
     },
     "execution_count": 55,
     "metadata": {},
     "output_type": "execute_result"
    }
   ],
   "source": [
    "#利用cut函数根据出资额的大小将数据离散化到多个面元中\n",
    "bins = np.array([0,1,10,100,1000,10000,100000,1000000,10000000])\n",
    "labels = pd.cut(fec_sub.contb_receipt_amt,bins)\n",
    "labels[:10]"
   ]
  },
  {
   "cell_type": "code",
   "execution_count": 56,
   "metadata": {},
   "outputs": [
    {
     "name": "stdout",
     "output_type": "stream",
     "text": [
      "cand_nm              Obama, Barack  Romney, Mitt\n",
      "contb_receipt_amt                               \n",
      "(0, 1]                    493.0000       77.0000\n",
      "(1, 10]                 40070.0000     3681.0000\n",
      "(10, 100]              372280.0000    31853.0000\n",
      "(100, 1000]            153991.0000    43357.0000\n",
      "(1000, 10000]           22284.0000    26186.0000\n",
      "(10000, 100000]             2.0000        1.0000\n",
      "(100000, 1000000]           3.0000           nan\n",
      "(1000000, 10000000]         4.0000           nan\n"
     ]
    }
   ],
   "source": [
    "#面元标签\n",
    "#根据候选人和面元标签对数据分组\n",
    "grouped = fec_sub.groupby(['cand_nm',labels])\n",
    "print(grouped.size().unstack(0))"
   ]
  },
  {
   "cell_type": "code",
   "execution_count": 58,
   "metadata": {},
   "outputs": [
    {
     "data": {
      "text/html": [
       "<div>\n",
       "<style scoped>\n",
       "    .dataframe tbody tr th:only-of-type {\n",
       "        vertical-align: middle;\n",
       "    }\n",
       "\n",
       "    .dataframe tbody tr th {\n",
       "        vertical-align: top;\n",
       "    }\n",
       "\n",
       "    .dataframe thead th {\n",
       "        text-align: right;\n",
       "    }\n",
       "</style>\n",
       "<table border=\"1\" class=\"dataframe\">\n",
       "  <thead>\n",
       "    <tr style=\"text-align: right;\">\n",
       "      <th>cand_nm</th>\n",
       "      <th>Obama, Barack</th>\n",
       "      <th>Romney, Mitt</th>\n",
       "    </tr>\n",
       "    <tr>\n",
       "      <th>contb_receipt_amt</th>\n",
       "      <th></th>\n",
       "      <th></th>\n",
       "    </tr>\n",
       "  </thead>\n",
       "  <tbody>\n",
       "    <tr>\n",
       "      <th>(0, 1]</th>\n",
       "      <td>318.2400</td>\n",
       "      <td>77.0000</td>\n",
       "    </tr>\n",
       "    <tr>\n",
       "      <th>(1, 10]</th>\n",
       "      <td>337267.6200</td>\n",
       "      <td>29819.6600</td>\n",
       "    </tr>\n",
       "    <tr>\n",
       "      <th>(10, 100]</th>\n",
       "      <td>20288981.4100</td>\n",
       "      <td>1987783.7600</td>\n",
       "    </tr>\n",
       "    <tr>\n",
       "      <th>(100, 1000]</th>\n",
       "      <td>54798531.4600</td>\n",
       "      <td>22363381.6900</td>\n",
       "    </tr>\n",
       "    <tr>\n",
       "      <th>(1000, 10000]</th>\n",
       "      <td>51753705.6700</td>\n",
       "      <td>63942145.4200</td>\n",
       "    </tr>\n",
       "    <tr>\n",
       "      <th>(10000, 100000]</th>\n",
       "      <td>59100.0000</td>\n",
       "      <td>12700.0000</td>\n",
       "    </tr>\n",
       "    <tr>\n",
       "      <th>(100000, 1000000]</th>\n",
       "      <td>1490683.0800</td>\n",
       "      <td>nan</td>\n",
       "    </tr>\n",
       "    <tr>\n",
       "      <th>(1000000, 10000000]</th>\n",
       "      <td>7148839.7600</td>\n",
       "      <td>nan</td>\n",
       "    </tr>\n",
       "  </tbody>\n",
       "</table>\n",
       "</div>"
      ],
      "text/plain": [
       "cand_nm              Obama, Barack  Romney, Mitt\n",
       "contb_receipt_amt                               \n",
       "(0, 1]                    318.2400       77.0000\n",
       "(1, 10]                337267.6200    29819.6600\n",
       "(10, 100]            20288981.4100  1987783.7600\n",
       "(100, 1000]          54798531.4600 22363381.6900\n",
       "(1000, 10000]        51753705.6700 63942145.4200\n",
       "(10000, 100000]         59100.0000    12700.0000\n",
       "(100000, 1000000]     1490683.0800           nan\n",
       "(1000000, 10000000]   7148839.7600           nan"
      ]
     },
     "execution_count": 58,
     "metadata": {},
     "output_type": "execute_result"
    }
   ],
   "source": [
    "#对出资额求和，并在面元内规格化\n",
    "bucket_sums = grouped.contb_receipt_amt.sum().unstack(0)\n",
    "bucket_sums\n"
   ]
  },
  {
   "cell_type": "code",
   "execution_count": 59,
   "metadata": {},
   "outputs": [
    {
     "data": {
      "text/html": [
       "<div>\n",
       "<style scoped>\n",
       "    .dataframe tbody tr th:only-of-type {\n",
       "        vertical-align: middle;\n",
       "    }\n",
       "\n",
       "    .dataframe tbody tr th {\n",
       "        vertical-align: top;\n",
       "    }\n",
       "\n",
       "    .dataframe thead th {\n",
       "        text-align: right;\n",
       "    }\n",
       "</style>\n",
       "<table border=\"1\" class=\"dataframe\">\n",
       "  <thead>\n",
       "    <tr style=\"text-align: right;\">\n",
       "      <th>cand_nm</th>\n",
       "      <th>Obama, Barack</th>\n",
       "      <th>Romney, Mitt</th>\n",
       "    </tr>\n",
       "    <tr>\n",
       "      <th>contb_receipt_amt</th>\n",
       "      <th></th>\n",
       "      <th></th>\n",
       "    </tr>\n",
       "  </thead>\n",
       "  <tbody>\n",
       "    <tr>\n",
       "      <th>(0, 1]</th>\n",
       "      <td>0.8052</td>\n",
       "      <td>0.1948</td>\n",
       "    </tr>\n",
       "    <tr>\n",
       "      <th>(1, 10]</th>\n",
       "      <td>0.9188</td>\n",
       "      <td>0.0812</td>\n",
       "    </tr>\n",
       "    <tr>\n",
       "      <th>(10, 100]</th>\n",
       "      <td>0.9108</td>\n",
       "      <td>0.0892</td>\n",
       "    </tr>\n",
       "    <tr>\n",
       "      <th>(100, 1000]</th>\n",
       "      <td>0.7102</td>\n",
       "      <td>0.2898</td>\n",
       "    </tr>\n",
       "    <tr>\n",
       "      <th>(1000, 10000]</th>\n",
       "      <td>0.4473</td>\n",
       "      <td>0.5527</td>\n",
       "    </tr>\n",
       "    <tr>\n",
       "      <th>(10000, 100000]</th>\n",
       "      <td>0.8231</td>\n",
       "      <td>0.1769</td>\n",
       "    </tr>\n",
       "    <tr>\n",
       "      <th>(100000, 1000000]</th>\n",
       "      <td>1.0000</td>\n",
       "      <td>nan</td>\n",
       "    </tr>\n",
       "    <tr>\n",
       "      <th>(1000000, 10000000]</th>\n",
       "      <td>1.0000</td>\n",
       "      <td>nan</td>\n",
       "    </tr>\n",
       "  </tbody>\n",
       "</table>\n",
       "</div>"
      ],
      "text/plain": [
       "cand_nm              Obama, Barack  Romney, Mitt\n",
       "contb_receipt_amt                               \n",
       "(0, 1]                      0.8052        0.1948\n",
       "(1, 10]                     0.9188        0.0812\n",
       "(10, 100]                   0.9108        0.0892\n",
       "(100, 1000]                 0.7102        0.2898\n",
       "(1000, 10000]               0.4473        0.5527\n",
       "(10000, 100000]             0.8231        0.1769\n",
       "(100000, 1000000]           1.0000           nan\n",
       "(1000000, 10000000]         1.0000           nan"
      ]
     },
     "execution_count": 59,
     "metadata": {},
     "output_type": "execute_result"
    }
   ],
   "source": [
    "#将得到的数据按比例\n",
    "normed_sums = bucket_sums.div(bucket_sums.sum(axis=1),axis=0)\n",
    "normed_sums\n"
   ]
  },
  {
   "cell_type": "code",
   "execution_count": 60,
   "metadata": {},
   "outputs": [
    {
     "data": {
      "image/png": "[encoded data removed]",
      "text/plain": [
       "<matplotlib.figure.Figure at 0x20428f47e80>"
      ]
     },
     "metadata": {},
     "output_type": "display_data"
    }
   ],
   "source": [
    "#排除两个最大的\n",
    "normed_sums[:-2].plot(kind='barh',stacked=True)\n",
    "plt.show()"
   ]
  },
  {
   "cell_type": "markdown",
   "metadata": {},
   "source": [
    "---"
   ]
  },
  {
   "cell_type": "markdown",
   "metadata": {},
   "source": [
    "## 根据州统计赞助信息"
   ]
  },
  {
   "cell_type": "code",
   "execution_count": 62,
   "metadata": {},
   "outputs": [
    {
     "name": "stdout",
     "output_type": "stream",
     "text": [
      "cand_nm    Obama, Barack  Romney, Mitt\n",
      "contbr_st                             \n",
      "AK                0.7658        0.2342\n",
      "AL                0.5074        0.4926\n",
      "AR                0.7729        0.2271\n",
      "AZ                0.4437        0.5563\n",
      "CA                0.6795        0.3205\n",
      "CO                0.5860        0.4140\n",
      "CT                0.3715        0.6285\n",
      "DC                0.8101        0.1899\n",
      "DE                0.8028        0.1972\n",
      "FL                0.4674        0.5326\n"
     ]
    }
   ],
   "source": [
    "#根据候选人和州对数据聚合\n",
    "grouped = fec_sub.groupby(['cand_nm','contbr_st'])\n",
    "totals = grouped.contb_receipt_amt.sum().unstack(0).fillna(0)\n",
    "totals = totals[totals.sum(1) > 100000]\n",
    "#print(totals)\n",
    "#各行除以总赞助额，得到各候选人在各州的总赞助额比例\n",
    "percent = totals.div(totals.sum(1),axis=0)    #跟sum(axis=1)一样\n",
    "print(percent[:10])"
   ]
  },
  {
   "cell_type": "code",
   "execution_count": null,
   "metadata": {},
   "outputs": [],
   "source": []
  }
 ],
 "metadata": {
  "kernelspec": {
   "display_name": "Python 3",
   "language": "python",
   "name": "python3"
  },
  "language_info": {
   "codemirror_mode": {
    "name": "ipython",
    "version": 3
   },
   "file_extension": ".py",
   "mimetype": "text/x-python",
   "name": "python",
   "nbconvert_exporter": "python",
   "pygments_lexer": "ipython3",
   "version": "3.5.4"
  }
 },
 "nbformat": 4,
 "nbformat_minor": 2
}
